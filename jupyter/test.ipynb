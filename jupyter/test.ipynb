{
 "cells": [
  {
   "cell_type": "code",
   "execution_count": 2,
   "metadata": {},
   "outputs": [],
   "source": [
    "import numpy as np "
   ]
  },
  {
   "cell_type": "code",
   "execution_count": null,
   "metadata": {},
   "outputs": [
    {
     "name": "stdout",
     "output_type": "stream",
     "text": [
      "[np.int32(4), np.int32(8)]\n"
     ]
    },
    {
     "data": {
      "text/plain": [
       "array([[2, 1, 2, 2, 1, 3, 2, 1, 4, 2],\n",
       "       [2, 3, 4, 1, 1, 1, 4, 4, 4, 4]], dtype=int32)"
      ]
     },
     "execution_count": 6,
     "metadata": {},
     "output_type": "execute_result"
    }
   ],
   "source": [
    "L = 10\n",
    "\n",
    "grid = np.random.randint(low=0, high=5, size=(L, L))\n",
    "\n",
    "\n",
    "idx_picked = np.random.randint(low=0, high=L, size=2)\n",
    "x, y = idx_picked\n",
    "# The neighbour must take closed boundary conditions into account\n",
    "possible_nbors = []\n",
    "if x > 0:\n",
    "    possible_nbors.append((x-1, y))\n",
    "if x < L-1:\n",
    "    possible_nbors.append((x+1, y))\n",
    "if y > 0:\n",
    "    possible_nbors.append((x, y-1))\n",
    "if y < L-1:\n",
    "    possible_nbors.append((x, y+1))\n",
    "    \n",
    "dx, dy = possible_nbors[np.random.randint(low=0, high=len(possible_nbors))]\n",
    "idx_nbor = (dx, dy)\n",
    "print(idx_nbor)\n",
    "grid[idx_nbor]"
   ]
  }
 ],
 "metadata": {
  "kernelspec": {
   "display_name": ".venv",
   "language": "python",
   "name": "python3"
  },
  "language_info": {
   "codemirror_mode": {
    "name": "ipython",
    "version": 3
   },
   "file_extension": ".py",
   "mimetype": "text/x-python",
   "name": "python",
   "nbconvert_exporter": "python",
   "pygments_lexer": "ipython3",
   "version": "3.12.6"
  }
 },
 "nbformat": 4,
 "nbformat_minor": 2
}
