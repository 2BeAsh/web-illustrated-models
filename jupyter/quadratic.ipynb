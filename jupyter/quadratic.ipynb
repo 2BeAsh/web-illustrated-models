{
 "cells": [
  {
   "cell_type": "code",
   "execution_count": 2,
   "metadata": {},
   "outputs": [],
   "source": [
    "import numpy as np\n",
    "import matplotlib.pyplot as plt\n",
    "import ipywidgets as widgets\n",
    "from ipywidgets import interact, interactive, fixed"
   ]
  },
  {
   "cell_type": "code",
   "execution_count": 5,
   "metadata": {},
   "outputs": [],
   "source": [
    "def quadratic_model(a, b):\n",
    "    x = np.linspace(-10, 10, 100)\n",
    "    y = a * x**2 + b\n",
    "    return x, y\n",
    "\n",
    "def plot_quadratic(a=1, b=0):\n",
    "    x, y = quadratic_model(a, b)\n",
    "    \n",
    "    fig, ax = plt.subplots()   \n",
    "    ax.plot(x, y)\n",
    "    ax.set(xlabel='x', ylabel='y', title=f\"Quadradic model: y = {a}x^2 + {b}\", ylim=(-50, 300))\n",
    "    ax.grid()\n",
    "    plt.show()"
   ]
  },
  {
   "cell_type": "code",
   "execution_count": null,
   "metadata": {},
   "outputs": [
    {
     "data": {
      "application/vnd.jupyter.widget-view+json": {
       "model_id": "0d214806c2964d0b83f3cd53e778cb01",
       "version_major": 2,
       "version_minor": 0
      },
      "text/plain": [
       "interactive(children=(FloatSlider(value=1.0, description='a', max=10.0, min=-10.0, step=0.5), FloatSlider(valu…"
      ]
     },
     "metadata": {},
     "output_type": "display_data"
    },
    {
     "data": {
      "text/plain": [
       "<function __main__.plot_quadratic(a=1, b=0)>"
      ]
     },
     "execution_count": 6,
     "metadata": {},
     "output_type": "execute_result"
    }
   ],
   "source": [
    "interact(plot_quadratic, \n",
    "         a=widgets.FloatSlider(min=-10, max=10, step=0.5, value=1),\n",
    "         b=widgets.FloatSlider(min=-10, max=10, step=1, value=0)\n",
    ")"
   ]
  },
  {
   "cell_type": "code",
   "execution_count": null,
   "metadata": {},
   "outputs": [],
   "source": []
  }
 ],
 "metadata": {
  "kernelspec": {
   "display_name": ".venv",
   "language": "python",
   "name": "python3"
  },
  "language_info": {
   "codemirror_mode": {
    "name": "ipython",
    "version": 3
   },
   "file_extension": ".py",
   "mimetype": "text/x-python",
   "name": "python",
   "nbconvert_exporter": "python",
   "pygments_lexer": "ipython3",
   "version": "3.12.6"
  }
 },
 "nbformat": 4,
 "nbformat_minor": 2
}
